{
 "cells": [
  {
   "cell_type": "code",
   "execution_count": 7,
   "metadata": {},
   "outputs": [],
   "source": [
    "import tensorflow as tf\n",
    "from tensorflow import keras\n",
    "from tensorflow.keras.models import Sequential\n",
    "from tensorflow.keras.layers import Activation, Dense\n",
    "from tensorflow.keras.optimizers import Adam\n",
    "from tensorflow.keras.metrics import categorical_crossentropy\n"
   ]
  },
  {
   "cell_type": "code",
   "execution_count": 8,
   "metadata": {},
   "outputs": [
    {
     "name": "stdout",
     "output_type": "stream",
     "text": [
      "[name: \"/device:CPU:0\"\n",
      "device_type: \"CPU\"\n",
      "memory_limit: 268435456\n",
      "locality {\n",
      "}\n",
      "incarnation: 9522381209411521951\n",
      "xla_global_id: -1\n",
      "]\n"
     ]
    }
   ],
   "source": [
    "from tensorflow.python.client import device_lib\n",
    "print(device_lib.list_local_devices())"
   ]
  },
  {
   "cell_type": "code",
   "execution_count": 3,
   "metadata": {},
   "outputs": [
    {
     "name": "stdout",
     "output_type": "stream",
     "text": [
      "0\n"
     ]
    }
   ],
   "source": [
    "import tensorflow as tf\n",
    "physical_devices = tf.config.experimental.list_physical_devices(\"GPU\")\n",
    "print(len(physical_devices))"
   ]
  },
  {
   "cell_type": "code",
   "execution_count": 4,
   "metadata": {},
   "outputs": [
    {
     "data": {
      "text/plain": [
       "'2.7.0'"
      ]
     },
     "execution_count": 4,
     "metadata": {},
     "output_type": "execute_result"
    }
   ],
   "source": [
    "from tensorflow import __version__\n",
    "__version__"
   ]
  },
  {
   "cell_type": "code",
   "execution_count": 20,
   "metadata": {},
   "outputs": [],
   "source": [
    "model = Sequential([\n",
    "        Dense(units=10, input_shape=(6,), activation=\"relu\", bias_initializer=\"RandomNormal\" ), #first hidden layer\n",
    "        Dense(units=5, activation=\"softmax\", bias_initializer=\"RandomNormal\"), #output\n",
    "        \n",
    "        ])"
   ]
  },
  {
   "cell_type": "code",
   "execution_count": 21,
   "metadata": {},
   "outputs": [
    {
     "data": {
      "text/plain": [
       "[<tf.Variable 'dense_6/kernel:0' shape=(6, 10) dtype=float32, numpy=\n",
       " array([[-0.58854395,  0.08984739, -0.11432636, -0.07240129, -0.25191474,\n",
       "          0.1344549 , -0.0653649 ,  0.44237608,  0.46490055,  0.5698946 ],\n",
       "        [-0.15818402,  0.54284376,  0.4756326 ,  0.18164694,  0.46154898,\n",
       "          0.41615444,  0.09388214, -0.22688654, -0.49517295,  0.24244905],\n",
       "        [-0.33842063,  0.39629155, -0.2547073 ,  0.30843627,  0.4694875 ,\n",
       "          0.28994697,  0.55356365, -0.2572594 , -0.58057576, -0.2727837 ],\n",
       "        [-0.18887329, -0.24439657, -0.00136966,  0.23863769, -0.05615342,\n",
       "         -0.02310127, -0.42701358, -0.43081748, -0.51982653,  0.08934456],\n",
       "        [-0.47476566, -0.36289006, -0.05819058,  0.46221298, -0.35619622,\n",
       "          0.3018598 , -0.10103106,  0.5361008 , -0.53260136,  0.4518121 ],\n",
       "        [-0.21089622, -0.51679003, -0.06850469, -0.29835224, -0.32450277,\n",
       "         -0.27552485, -0.32206777, -0.28082016, -0.0852533 ,  0.58349055]],\n",
       "       dtype=float32)>,\n",
       " <tf.Variable 'dense_6/bias:0' shape=(10,) dtype=float32, numpy=\n",
       " array([-0.00058006, -0.03357558,  0.0379249 ,  0.0975131 , -0.01921047,\n",
       "         0.03365417,  0.04583917, -0.03284614, -0.04650119, -0.01510413],\n",
       "       dtype=float32)>,\n",
       " <tf.Variable 'dense_7/kernel:0' shape=(10, 5) dtype=float32, numpy=\n",
       " array([[ 0.02325803, -0.01334679,  0.59987885,  0.14694566, -0.11083317],\n",
       "        [-0.39938375, -0.58262557, -0.2845866 , -0.23837698, -0.11582112],\n",
       "        [-0.39696345, -0.059461  , -0.25627294,  0.08725142,  0.22733438],\n",
       "        [ 0.6037306 ,  0.5727001 , -0.3566747 ,  0.5097129 , -0.16339707],\n",
       "        [ 0.2563405 , -0.5516149 ,  0.49570042,  0.20402706,  0.5142017 ],\n",
       "        [-0.03579265, -0.09672523,  0.30638784,  0.44156975,  0.11678815],\n",
       "        [-0.19359231,  0.3367464 , -0.4013398 ,  0.26927215,  0.2208277 ],\n",
       "        [-0.5480192 , -0.549083  , -0.19681391,  0.23560369,  0.5729614 ],\n",
       "        [-0.1883676 ,  0.2668354 , -0.02890658,  0.43129784,  0.05035937],\n",
       "        [ 0.29697877,  0.38262266,  0.34325218, -0.16913688, -0.4833528 ]],\n",
       "       dtype=float32)>,\n",
       " <tf.Variable 'dense_7/bias:0' shape=(5,) dtype=float32, numpy=\n",
       " array([ 0.12868099, -0.04315455, -0.04314662,  0.00417273,  0.05214362],\n",
       "       dtype=float32)>]"
      ]
     },
     "execution_count": 21,
     "metadata": {},
     "output_type": "execute_result"
    }
   ],
   "source": [
    "model.weights"
   ]
  },
  {
   "cell_type": "code",
   "execution_count": 19,
   "metadata": {},
   "outputs": [
    {
     "data": {
      "text/plain": [
       "[<tf.Variable 'dense_4/kernel:0' shape=(6, 10) dtype=float32, numpy=\n",
       " array([[ 0.37207723, -0.16884413,  0.23532641,  0.32854205,  0.08007991,\n",
       "          0.30718923, -0.5644662 , -0.18320742,  0.31231815, -0.26835898],\n",
       "        [ 0.3560514 ,  0.3348348 , -0.16005751, -0.07671225, -0.4895601 ,\n",
       "          0.09265614,  0.04700732, -0.42714965, -0.07550806, -0.20731992],\n",
       "        [ 0.0627563 , -0.26939952, -0.26847315,  0.25917757,  0.28679496,\n",
       "          0.5252779 , -0.20714006,  0.2211811 ,  0.44929343,  0.17054725],\n",
       "        [ 0.04944485, -0.5285717 ,  0.1045084 ,  0.4341126 , -0.28222308,\n",
       "          0.54749936,  0.5752359 , -0.01062667,  0.27225018, -0.30018952],\n",
       "        [-0.5260821 , -0.44564563,  0.02359229, -0.2741034 ,  0.30011725,\n",
       "         -0.4426599 , -0.203834  ,  0.03242445, -0.2376782 , -0.31614175],\n",
       "        [-0.43519223,  0.1373412 , -0.56972647, -0.38865882, -0.53641504,\n",
       "         -0.25752863,  0.39445215,  0.55147606,  0.2754457 , -0.3341676 ]],\n",
       "       dtype=float32)>,\n",
       " <tf.Variable 'dense_4/bias:0' shape=(10,) dtype=float32, numpy=\n",
       " array([ 1.2181994e-02,  5.3445894e-02,  1.6425716e-02, -1.4701930e-02,\n",
       "        -5.6885779e-03, -8.7119110e-02,  4.6507418e-02,  1.9672206e-02,\n",
       "         5.7370003e-02,  8.0828133e-05], dtype=float32)>,\n",
       " <tf.Variable 'dense_5/kernel:0' shape=(10, 5) dtype=float32, numpy=\n",
       " array([[ 0.30204558, -0.1356822 ,  0.42395395,  0.6273611 , -0.43146205],\n",
       "        [ 0.2762943 ,  0.27904963,  0.00508821,  0.23649722, -0.09028637],\n",
       "        [-0.5441059 ,  0.14836657, -0.3922184 ,  0.12486911,  0.38115782],\n",
       "        [ 0.15191823, -0.04418713,  0.5922285 ,  0.02096695, -0.4826287 ],\n",
       "        [ 0.17868572, -0.22603217,  0.37226397,  0.09642559, -0.6136876 ],\n",
       "        [ 0.49102455, -0.18405792,  0.3002693 , -0.4196928 ,  0.5025113 ],\n",
       "        [-0.03084332,  0.57581764, -0.27409983,  0.45017177,  0.21845937],\n",
       "        [ 0.06086302,  0.50117236,  0.06922972, -0.13544303, -0.0762105 ],\n",
       "        [-0.41533452, -0.47247472, -0.02274716,  0.3438624 , -0.42680687],\n",
       "        [ 0.5146082 , -0.08429819,  0.4097877 ,  0.5128351 , -0.49680275]],\n",
       "       dtype=float32)>,\n",
       " <tf.Variable 'dense_5/bias:0' shape=(5,) dtype=float32, numpy=\n",
       " array([ 0.07810625, -0.08162584, -0.00359932,  0.04118593,  0.02941884],\n",
       "       dtype=float32)>]"
      ]
     },
     "execution_count": 19,
     "metadata": {},
     "output_type": "execute_result"
    }
   ],
   "source": [
    "wg1 = model.weights\n",
    "wg1"
   ]
  },
  {
   "cell_type": "code",
   "execution_count": 23,
   "metadata": {},
   "outputs": [
    {
     "ename": "AttributeError",
     "evalue": "'NoneType' object has no attribute 'weights'",
     "output_type": "error",
     "traceback": [
      "\u001b[1;31m---------------------------------------------------------------------------\u001b[0m",
      "\u001b[1;31mAttributeError\u001b[0m                            Traceback (most recent call last)",
      "\u001b[1;32m~\\AppData\\Local\\Temp/ipykernel_7700/3548338790.py\u001b[0m in \u001b[0;36m<module>\u001b[1;34m\u001b[0m\n\u001b[0;32m      4\u001b[0m \u001b[1;33m\u001b[0m\u001b[0m\n\u001b[0;32m      5\u001b[0m         ]).set_weights(wg1)\n\u001b[1;32m----> 6\u001b[1;33m \u001b[0mmodel\u001b[0m\u001b[1;33m.\u001b[0m\u001b[0mweights\u001b[0m\u001b[1;33m\u001b[0m\u001b[1;33m\u001b[0m\u001b[0m\n\u001b[0m",
      "\u001b[1;31mAttributeError\u001b[0m: 'NoneType' object has no attribute 'weights'"
     ]
    }
   ],
   "source": [
    "model = Sequential([\n",
    "        Dense(units=10, input_shape=(6,), activation=\"relu\", bias_initializer=\"RandomNormal\" ), #first hidden layer\n",
    "        Dense(units=5, activation=\"softmax\", bias_initializer=\"RandomNormal\"), #output\n",
    "        \n",
    "        ])\n",
    "model..set_weights(wg1)\n",
    "model.weights"
   ]
  },
  {
   "cell_type": "code",
   "execution_count": 17,
   "metadata": {},
   "outputs": [
    {
     "data": {
      "text/plain": [
       "array([[1, 2, 3, 4, 5, 6]])"
      ]
     },
     "execution_count": 17,
     "metadata": {},
     "output_type": "execute_result"
    }
   ],
   "source": [
    "troll_list = np.array([1,2,3,4,5,6])\n",
    "troll_list = troll_list.reshape(1,6)\n",
    "troll_list"
   ]
  },
  {
   "cell_type": "code",
   "execution_count": 19,
   "metadata": {},
   "outputs": [],
   "source": [
    "import numpy as np\n",
    "prediction = model.predict(troll_list)"
   ]
  },
  {
   "cell_type": "code",
   "execution_count": 23,
   "metadata": {},
   "outputs": [
    {
     "data": {
      "text/plain": [
       "4"
      ]
     },
     "execution_count": 23,
     "metadata": {},
     "output_type": "execute_result"
    }
   ],
   "source": [
    "prediction.argmax()"
   ]
  },
  {
   "cell_type": "code",
   "execution_count": 189,
   "metadata": {},
   "outputs": [
    {
     "data": {
      "text/plain": [
       "[<tf.Variable 'dense_10/kernel:0' shape=(6, 10) dtype=float32, numpy=\n",
       " array([[ 0.3303269 ,  0.49272436,  0.11734623,  0.43968588, -0.20411491,\n",
       "         -0.32208735, -0.4486944 ,  0.00063819,  0.1566853 , -0.5047921 ],\n",
       "        [ 0.32089478, -0.5409337 ,  0.5325498 ,  0.09458864,  0.37957698,\n",
       "         -0.44595104,  0.44402224,  0.01434606, -0.17901427,  0.24032068],\n",
       "        [-0.21201473,  0.5849356 , -0.07611585, -0.24667725, -0.6061711 ,\n",
       "          0.08153188,  0.299887  , -0.14579758,  0.53336555,  0.1737439 ],\n",
       "        [ 0.06815881,  0.17767167,  0.29013753, -0.33828366,  0.3716554 ,\n",
       "          0.03316104, -0.50647897,  0.45457035,  0.20950514,  0.20572513],\n",
       "        [ 0.15399218,  0.29901803, -0.13227922,  0.39984375, -0.17038855,\n",
       "         -0.05421615,  0.047795  , -0.14655519, -0.00803047, -0.53433394],\n",
       "        [-0.269176  ,  0.5681495 , -0.20721158, -0.34706563,  0.48666626,\n",
       "          0.14048415, -0.57109785, -0.38443387, -0.3920675 , -0.40147522]],\n",
       "       dtype=float32)>,\n",
       " <tf.Variable 'dense_10/bias:0' shape=(10,) dtype=float32, numpy=\n",
       " array([ 0.01277965, -0.04694806,  0.1103329 , -0.06963422, -0.01444285,\n",
       "         0.02005878, -0.04923586, -0.00539264,  0.01910673,  0.01674363],\n",
       "       dtype=float32)>,\n",
       " <tf.Variable 'dense_11/kernel:0' shape=(10, 5) dtype=float32, numpy=\n",
       " array([[-0.40035966, -0.1616036 ,  0.25047117,  0.3144337 ,  0.5268374 ],\n",
       "        [-0.31057906, -0.11012024, -0.00694507, -0.0556249 , -0.61068416],\n",
       "        [-0.4800498 ,  0.54078084, -0.5593002 ,  0.1923424 ,  0.05092257],\n",
       "        [ 0.43862993,  0.6001325 , -0.0936743 ,  0.48347646, -0.0047372 ],\n",
       "        [-0.57729065, -0.147172  ,  0.24857152, -0.5237293 , -0.3591674 ],\n",
       "        [-0.2298859 ,  0.6267622 ,  0.17621505, -0.5416583 ,  0.26750582],\n",
       "        [-0.38606137, -0.20375308, -0.33039758,  0.17377877, -0.5569878 ],\n",
       "        [ 0.31263083,  0.5931707 ,  0.40159434,  0.00726414, -0.21644786],\n",
       "        [ 0.03860039,  0.40103644, -0.13154632,  0.25240523,  0.35367262],\n",
       "        [-0.24728364,  0.13303733, -0.21758965, -0.48525876,  0.36269766]],\n",
       "       dtype=float32)>,\n",
       " <tf.Variable 'dense_11/bias:0' shape=(5,) dtype=float32, numpy=\n",
       " array([ 0.00640567,  0.02695281,  0.05841245, -0.02647206, -0.04657146],\n",
       "       dtype=float32)>]"
      ]
     },
     "execution_count": 189,
     "metadata": {},
     "output_type": "execute_result"
    }
   ],
   "source": [
    "model.weights"
   ]
  },
  {
   "cell_type": "code",
   "execution_count": 190,
   "metadata": {},
   "outputs": [],
   "source": [
    "model.set_weights(weights1)"
   ]
  },
  {
   "cell_type": "code",
   "execution_count": 191,
   "metadata": {},
   "outputs": [
    {
     "data": {
      "text/plain": [
       "[<tf.Variable 'dense_10/kernel:0' shape=(6, 10) dtype=float32, numpy=\n",
       " array([[-0.20550191,  0.43632013, -0.1247063 ,  0.36417955, -0.05435193,\n",
       "          0.16041505, -0.08009219, -0.4876371 ,  0.5270789 , -0.22714671],\n",
       "        [-0.13508916,  0.16230476, -0.5823142 ,  0.59421295, -0.16791484,\n",
       "          0.05303282, -0.43032938,  0.437056  , -0.29983795, -0.2542137 ],\n",
       "        [-0.13452968,  0.2499662 , -0.09991783,  0.5022195 ,  0.0409832 ,\n",
       "         -0.16415268,  0.09688812, -0.41114238,  0.13460892, -0.36726734],\n",
       "        [ 0.35598248, -0.15569499,  0.25118637,  0.38806838, -0.6026911 ,\n",
       "         -0.28360236,  0.33014894,  0.53754014, -0.5600314 , -0.5714094 ],\n",
       "        [ 0.22438145,  0.12202936, -0.44010824, -0.22674373,  0.05882555,\n",
       "         -0.56905484, -0.4846149 ,  0.40899366, -0.1061694 ,  0.46852106],\n",
       "        [ 0.4313913 , -0.4670628 , -0.25587487,  0.08854097,  0.26260144,\n",
       "          0.15318161, -0.47664177, -0.52249   , -0.21726507, -0.4849761 ]],\n",
       "       dtype=float32)>,\n",
       " <tf.Variable 'dense_10/bias:0' shape=(10,) dtype=float32, numpy=\n",
       " array([ 0.0667546 , -0.03175627, -0.01404304,  0.04249647,  0.05407047,\n",
       "         0.00670695,  0.03647355,  0.03131673, -0.00343134, -0.01775817],\n",
       "       dtype=float32)>,\n",
       " <tf.Variable 'dense_11/kernel:0' shape=(10, 5) dtype=float32, numpy=\n",
       " array([[-0.15617278, -0.45003837,  0.41482037,  0.35947788, -0.22490022],\n",
       "        [ 0.41105002, -0.27210248,  0.24810135,  0.03037363, -0.580385  ],\n",
       "        [ 0.38000232, -0.01188642,  0.38543016,  0.01838088,  0.533446  ],\n",
       "        [-0.20550299,  0.32569462,  0.5760369 , -0.11196172, -0.09118807],\n",
       "        [ 0.19937205,  0.36792284,  0.336533  , -0.34450963,  0.17339534],\n",
       "        [-0.55078   , -0.44134128, -0.22120059,  0.2772144 ,  0.23731697],\n",
       "        [-0.43873897, -0.25424346, -0.6197645 , -0.5574616 ,  0.04133689],\n",
       "        [-0.3793134 ,  0.2575391 ,  0.33048624, -0.20838049,  0.41090935],\n",
       "        [-0.28052872, -0.47728187,  0.447558  , -0.52149206, -0.03864241],\n",
       "        [-0.07749552,  0.06601971,  0.35028815,  0.09899777,  0.07422912]],\n",
       "       dtype=float32)>,\n",
       " <tf.Variable 'dense_11/bias:0' shape=(5,) dtype=float32, numpy=\n",
       " array([ 0.01641794, -0.04158299, -0.03674749,  0.07057574, -0.02341441],\n",
       "       dtype=float32)>]"
      ]
     },
     "execution_count": 191,
     "metadata": {},
     "output_type": "execute_result"
    }
   ],
   "source": [
    "model.weights"
   ]
  },
  {
   "cell_type": "code",
   "execution_count": 192,
   "metadata": {},
   "outputs": [],
   "source": [
    "weights1 = model.weights"
   ]
  },
  {
   "cell_type": "code",
   "execution_count": 193,
   "metadata": {},
   "outputs": [
    {
     "data": {
      "text/plain": [
       "[<tf.Variable 'dense_10/kernel:0' shape=(6, 10) dtype=float32, numpy=\n",
       " array([[-0.20550191,  0.43632013, -0.1247063 ,  0.36417955, -0.05435193,\n",
       "          0.16041505, -0.08009219, -0.4876371 ,  0.5270789 , -0.22714671],\n",
       "        [-0.13508916,  0.16230476, -0.5823142 ,  0.59421295, -0.16791484,\n",
       "          0.05303282, -0.43032938,  0.437056  , -0.29983795, -0.2542137 ],\n",
       "        [-0.13452968,  0.2499662 , -0.09991783,  0.5022195 ,  0.0409832 ,\n",
       "         -0.16415268,  0.09688812, -0.41114238,  0.13460892, -0.36726734],\n",
       "        [ 0.35598248, -0.15569499,  0.25118637,  0.38806838, -0.6026911 ,\n",
       "         -0.28360236,  0.33014894,  0.53754014, -0.5600314 , -0.5714094 ],\n",
       "        [ 0.22438145,  0.12202936, -0.44010824, -0.22674373,  0.05882555,\n",
       "         -0.56905484, -0.4846149 ,  0.40899366, -0.1061694 ,  0.46852106],\n",
       "        [ 0.4313913 , -0.4670628 , -0.25587487,  0.08854097,  0.26260144,\n",
       "          0.15318161, -0.47664177, -0.52249   , -0.21726507, -0.4849761 ]],\n",
       "       dtype=float32)>,\n",
       " <tf.Variable 'dense_10/bias:0' shape=(10,) dtype=float32, numpy=\n",
       " array([ 0.0667546 , -0.03175627, -0.01404304,  0.04249647,  0.05407047,\n",
       "         0.00670695,  0.03647355,  0.03131673, -0.00343134, -0.01775817],\n",
       "       dtype=float32)>,\n",
       " <tf.Variable 'dense_11/kernel:0' shape=(10, 5) dtype=float32, numpy=\n",
       " array([[-0.15617278, -0.45003837,  0.41482037,  0.35947788, -0.22490022],\n",
       "        [ 0.41105002, -0.27210248,  0.24810135,  0.03037363, -0.580385  ],\n",
       "        [ 0.38000232, -0.01188642,  0.38543016,  0.01838088,  0.533446  ],\n",
       "        [-0.20550299,  0.32569462,  0.5760369 , -0.11196172, -0.09118807],\n",
       "        [ 0.19937205,  0.36792284,  0.336533  , -0.34450963,  0.17339534],\n",
       "        [-0.55078   , -0.44134128, -0.22120059,  0.2772144 ,  0.23731697],\n",
       "        [-0.43873897, -0.25424346, -0.6197645 , -0.5574616 ,  0.04133689],\n",
       "        [-0.3793134 ,  0.2575391 ,  0.33048624, -0.20838049,  0.41090935],\n",
       "        [-0.28052872, -0.47728187,  0.447558  , -0.52149206, -0.03864241],\n",
       "        [-0.07749552,  0.06601971,  0.35028815,  0.09899777,  0.07422912]],\n",
       "       dtype=float32)>,\n",
       " <tf.Variable 'dense_11/bias:0' shape=(5,) dtype=float32, numpy=\n",
       " array([ 0.01641794, -0.04158299, -0.03674749,  0.07057574, -0.02341441],\n",
       "       dtype=float32)>]"
      ]
     },
     "execution_count": 193,
     "metadata": {},
     "output_type": "execute_result"
    }
   ],
   "source": [
    "weights1"
   ]
  },
  {
   "cell_type": "code",
   "execution_count": 194,
   "metadata": {},
   "outputs": [
    {
     "data": {
      "text/plain": [
       "array([[-0.20550191,  0.43632013, -0.1247063 ,  0.36417955, -0.05435193,\n",
       "         0.16041505, -0.08009219, -0.4876371 ,  0.5270789 , -0.22714671],\n",
       "       [-0.13508916,  0.16230476, -0.5823142 ,  0.59421295, -0.16791484,\n",
       "         0.05303282, -0.43032938,  0.437056  , -0.29983795, -0.2542137 ],\n",
       "       [-0.13452968,  0.2499662 , -0.09991783,  0.5022195 ,  0.0409832 ,\n",
       "        -0.16415268,  0.09688812, -0.41114238,  0.13460892, -0.36726734],\n",
       "       [ 0.35598248, -0.15569499,  0.25118637,  0.38806838, -0.6026911 ,\n",
       "        -0.28360236,  0.33014894,  0.53754014, -0.5600314 , -0.5714094 ],\n",
       "       [ 0.22438145,  0.12202936, -0.44010824, -0.22674373,  0.05882555,\n",
       "        -0.56905484, -0.4846149 ,  0.40899366, -0.1061694 ,  0.46852106],\n",
       "       [ 0.4313913 , -0.4670628 , -0.25587487,  0.08854097,  0.26260144,\n",
       "         0.15318161, -0.47664177, -0.52249   , -0.21726507, -0.4849761 ]],\n",
       "      dtype=float32)"
      ]
     },
     "execution_count": 194,
     "metadata": {},
     "output_type": "execute_result"
    }
   ],
   "source": [
    "old_shape = weights1[0].numpy().shape\n",
    "weights1[0].numpy().flatten().reshape(old_shape)"
   ]
  },
  {
   "cell_type": "code",
   "execution_count": 195,
   "metadata": {},
   "outputs": [
    {
     "data": {
      "text/plain": [
       "[(6, 10), (10,), (10, 5), (5,)]"
      ]
     },
     "execution_count": 195,
     "metadata": {},
     "output_type": "execute_result"
    }
   ],
   "source": [
    "old_shapes = []\n",
    "for x in range(0,len(weights1)):\n",
    "    old_shapes.append(weights1[x].numpy().shape)\n",
    "old_shapes"
   ]
  },
  {
   "cell_type": "code",
   "execution_count": 196,
   "metadata": {},
   "outputs": [
    {
     "data": {
      "text/plain": [
       "array([-0.15617278, -0.45003837,  0.41482037,  0.35947788, -0.22490022,\n",
       "        0.41105002, -0.27210248,  0.24810135,  0.03037363, -0.580385  ,\n",
       "        0.38000232, -0.01188642,  0.38543016,  0.01838088,  0.533446  ,\n",
       "       -0.20550299,  0.32569462,  0.5760369 , -0.11196172, -0.09118807,\n",
       "        0.19937205,  0.36792284,  0.336533  , -0.34450963,  0.17339534,\n",
       "       -0.55078   , -0.44134128, -0.22120059,  0.2772144 ,  0.23731697,\n",
       "       -0.43873897, -0.25424346, -0.6197645 , -0.5574616 ,  0.04133689,\n",
       "       -0.3793134 ,  0.2575391 ,  0.33048624, -0.20838049,  0.41090935,\n",
       "       -0.28052872, -0.47728187,  0.447558  , -0.52149206, -0.03864241,\n",
       "       -0.07749552,  0.06601971,  0.35028815,  0.09899777,  0.07422912],\n",
       "      dtype=float32)"
      ]
     },
     "execution_count": 196,
     "metadata": {},
     "output_type": "execute_result"
    }
   ],
   "source": [
    "weights1[2].numpy().flatten()"
   ]
  },
  {
   "cell_type": "code",
   "execution_count": 197,
   "metadata": {},
   "outputs": [],
   "source": [
    "import numpy as np\n",
    "flat_list = [weights1[0].numpy().flatten(),  weights1[1].numpy().flatten(), weights1[2].numpy().flatten(), weights1[3].numpy().flatten()]\n",
    "#weights_combined = np.array([])\n",
    "weights_combined = np.concatenate(( flat_list))\n",
    "weights_combined[1] = 1"
   ]
  },
  {
   "cell_type": "code",
   "execution_count": 198,
   "metadata": {},
   "outputs": [
    {
     "data": {
      "text/plain": [
       "array([-0.20550191,  1.        , -0.1247063 ,  0.36417955, -0.05435193,\n",
       "        0.16041505, -0.08009219, -0.4876371 ,  0.5270789 , -0.22714671,\n",
       "       -0.13508916,  0.16230476, -0.5823142 ,  0.59421295, -0.16791484,\n",
       "        0.05303282, -0.43032938,  0.437056  , -0.29983795, -0.2542137 ,\n",
       "       -0.13452968,  0.2499662 , -0.09991783,  0.5022195 ,  0.0409832 ,\n",
       "       -0.16415268,  0.09688812, -0.41114238,  0.13460892, -0.36726734,\n",
       "        0.35598248, -0.15569499,  0.25118637,  0.38806838, -0.6026911 ,\n",
       "       -0.28360236,  0.33014894,  0.53754014, -0.5600314 , -0.5714094 ,\n",
       "        0.22438145,  0.12202936, -0.44010824, -0.22674373,  0.05882555,\n",
       "       -0.56905484, -0.4846149 ,  0.40899366, -0.1061694 ,  0.46852106,\n",
       "        0.4313913 , -0.4670628 , -0.25587487,  0.08854097,  0.26260144,\n",
       "        0.15318161, -0.47664177, -0.52249   , -0.21726507, -0.4849761 ,\n",
       "        0.0667546 , -0.03175627, -0.01404304,  0.04249647,  0.05407047,\n",
       "        0.00670695,  0.03647355,  0.03131673, -0.00343134, -0.01775817,\n",
       "       -0.15617278, -0.45003837,  0.41482037,  0.35947788, -0.22490022,\n",
       "        0.41105002, -0.27210248,  0.24810135,  0.03037363, -0.580385  ,\n",
       "        0.38000232, -0.01188642,  0.38543016,  0.01838088,  0.533446  ,\n",
       "       -0.20550299,  0.32569462,  0.5760369 , -0.11196172, -0.09118807,\n",
       "        0.19937205,  0.36792284,  0.336533  , -0.34450963,  0.17339534,\n",
       "       -0.55078   , -0.44134128, -0.22120059,  0.2772144 ,  0.23731697,\n",
       "       -0.43873897, -0.25424346, -0.6197645 , -0.5574616 ,  0.04133689,\n",
       "       -0.3793134 ,  0.2575391 ,  0.33048624, -0.20838049,  0.41090935,\n",
       "       -0.28052872, -0.47728187,  0.447558  , -0.52149206, -0.03864241,\n",
       "       -0.07749552,  0.06601971,  0.35028815,  0.09899777,  0.07422912,\n",
       "        0.01641794, -0.04158299, -0.03674749,  0.07057574, -0.02341441],\n",
       "      dtype=float32)"
      ]
     },
     "execution_count": 198,
     "metadata": {},
     "output_type": "execute_result"
    }
   ],
   "source": [
    "weights_combined"
   ]
  },
  {
   "cell_type": "code",
   "execution_count": 171,
   "metadata": {},
   "outputs": [
    {
     "data": {
      "text/plain": [
       "array([-0.20550191,  0.43632013, -0.1247063 ,  0.36417955, -0.05435193,\n",
       "        0.16041505, -0.08009219, -0.4876371 ,  0.5270789 , -0.22714671,\n",
       "       -0.13508916,  0.16230476, -0.5823142 ,  0.59421295, -0.16791484,\n",
       "        0.05303282, -0.43032938,  0.437056  , -0.29983795, -0.2542137 ,\n",
       "       -0.13452968,  0.2499662 , -0.09991783,  0.5022195 ,  0.0409832 ,\n",
       "       -0.16415268,  0.09688812, -0.41114238,  0.13460892, -0.36726734,\n",
       "        0.35598248, -0.15569499,  0.25118637,  0.38806838, -0.6026911 ,\n",
       "       -0.28360236,  0.33014894,  0.53754014, -0.5600314 , -0.5714094 ,\n",
       "        0.22438145,  0.12202936, -0.44010824, -0.22674373,  0.05882555,\n",
       "       -0.56905484, -0.4846149 ,  0.40899366, -0.1061694 ,  0.46852106,\n",
       "        0.4313913 , -0.4670628 , -0.25587487,  0.08854097,  0.26260144,\n",
       "        0.15318161, -0.47664177, -0.52249   , -0.21726507, -0.4849761 ],\n",
       "      dtype=float32)"
      ]
     },
     "execution_count": 171,
     "metadata": {},
     "output_type": "execute_result"
    }
   ],
   "source": [
    "weights1[0].numpy().flatten()"
   ]
  },
  {
   "cell_type": "code",
   "execution_count": 201,
   "metadata": {},
   "outputs": [
    {
     "data": {
      "text/plain": [
       "65"
      ]
     },
     "execution_count": 201,
     "metadata": {},
     "output_type": "execute_result"
    }
   ],
   "source": [
    "new_weights1 = weights_combined[:len(weights1[0].numpy().flatten())].reshape(old_shapes[0])\n",
    "weights_combined = np.delete(weights_combined,np.s_[:len(weights1[0].numpy().flatten())])\n",
    "len(weights_combined)"
   ]
  },
  {
   "cell_type": "code",
   "execution_count": 202,
   "metadata": {},
   "outputs": [
    {
     "data": {
      "text/plain": [
       "55"
      ]
     },
     "execution_count": 202,
     "metadata": {},
     "output_type": "execute_result"
    }
   ],
   "source": [
    "new_weights2 = weights_combined[:len(weights1[1].numpy().flatten())].reshape(old_shapes[1])\n",
    "weights_combined = np.delete(weights_combined,np.s_[:len(weights1[1].numpy().flatten())])\n",
    "len(weights_combined)"
   ]
  },
  {
   "cell_type": "code",
   "execution_count": 203,
   "metadata": {},
   "outputs": [
    {
     "data": {
      "text/plain": [
       "5"
      ]
     },
     "execution_count": 203,
     "metadata": {},
     "output_type": "execute_result"
    }
   ],
   "source": [
    "new_weights3 = weights_combined[:len(weights1[2].numpy().flatten())].reshape(old_shapes[2])\n",
    "weights_combined = np.delete(weights_combined,np.s_[:len(weights1[2].numpy().flatten())])\n",
    "len(weights_combined)"
   ]
  },
  {
   "cell_type": "code",
   "execution_count": 204,
   "metadata": {},
   "outputs": [
    {
     "data": {
      "text/plain": [
       "0"
      ]
     },
     "execution_count": 204,
     "metadata": {},
     "output_type": "execute_result"
    }
   ],
   "source": [
    "new_weights4 = weights_combined[:len(weights1[3].numpy().flatten())].reshape(old_shapes[3])\n",
    "weights_combined = np.delete(weights_combined,np.s_[:len(weights1[3].numpy().flatten())])\n",
    "len(weights_combined)"
   ]
  },
  {
   "cell_type": "code",
   "execution_count": 186,
   "metadata": {},
   "outputs": [],
   "source": [
    "weights_combined = np.delete(weights_combined,np.s_[:len(weights1[3].numpy().flatten())])"
   ]
  },
  {
   "cell_type": "code",
   "execution_count": 205,
   "metadata": {},
   "outputs": [
    {
     "data": {
      "text/plain": [
       "[array([[-0.20550191,  1.        , -0.1247063 ,  0.36417955, -0.05435193,\n",
       "          0.16041505, -0.08009219, -0.4876371 ,  0.5270789 , -0.22714671],\n",
       "        [-0.13508916,  0.16230476, -0.5823142 ,  0.59421295, -0.16791484,\n",
       "          0.05303282, -0.43032938,  0.437056  , -0.29983795, -0.2542137 ],\n",
       "        [-0.13452968,  0.2499662 , -0.09991783,  0.5022195 ,  0.0409832 ,\n",
       "         -0.16415268,  0.09688812, -0.41114238,  0.13460892, -0.36726734],\n",
       "        [ 0.35598248, -0.15569499,  0.25118637,  0.38806838, -0.6026911 ,\n",
       "         -0.28360236,  0.33014894,  0.53754014, -0.5600314 , -0.5714094 ],\n",
       "        [ 0.22438145,  0.12202936, -0.44010824, -0.22674373,  0.05882555,\n",
       "         -0.56905484, -0.4846149 ,  0.40899366, -0.1061694 ,  0.46852106],\n",
       "        [ 0.4313913 , -0.4670628 , -0.25587487,  0.08854097,  0.26260144,\n",
       "          0.15318161, -0.47664177, -0.52249   , -0.21726507, -0.4849761 ]],\n",
       "       dtype=float32),\n",
       " array([ 0.0667546 , -0.03175627, -0.01404304,  0.04249647,  0.05407047,\n",
       "         0.00670695,  0.03647355,  0.03131673, -0.00343134, -0.01775817],\n",
       "       dtype=float32),\n",
       " array([[-0.15617278, -0.45003837,  0.41482037,  0.35947788, -0.22490022],\n",
       "        [ 0.41105002, -0.27210248,  0.24810135,  0.03037363, -0.580385  ],\n",
       "        [ 0.38000232, -0.01188642,  0.38543016,  0.01838088,  0.533446  ],\n",
       "        [-0.20550299,  0.32569462,  0.5760369 , -0.11196172, -0.09118807],\n",
       "        [ 0.19937205,  0.36792284,  0.336533  , -0.34450963,  0.17339534],\n",
       "        [-0.55078   , -0.44134128, -0.22120059,  0.2772144 ,  0.23731697],\n",
       "        [-0.43873897, -0.25424346, -0.6197645 , -0.5574616 ,  0.04133689],\n",
       "        [-0.3793134 ,  0.2575391 ,  0.33048624, -0.20838049,  0.41090935],\n",
       "        [-0.28052872, -0.47728187,  0.447558  , -0.52149206, -0.03864241],\n",
       "        [-0.07749552,  0.06601971,  0.35028815,  0.09899777,  0.07422912]],\n",
       "       dtype=float32),\n",
       " array([ 0.01641794, -0.04158299, -0.03674749,  0.07057574, -0.02341441],\n",
       "       dtype=float32)]"
      ]
     },
     "execution_count": 205,
     "metadata": {},
     "output_type": "execute_result"
    }
   ],
   "source": [
    "w_list = [new_weights1, new_weights2, new_weights3, new_weights4]\n",
    "w_list"
   ]
  },
  {
   "cell_type": "code",
   "execution_count": 206,
   "metadata": {},
   "outputs": [],
   "source": [
    "model.set_weights(w_list)"
   ]
  },
  {
   "cell_type": "code",
   "execution_count": 207,
   "metadata": {},
   "outputs": [
    {
     "data": {
      "text/plain": [
       "[<tf.Variable 'dense_10/kernel:0' shape=(6, 10) dtype=float32, numpy=\n",
       " array([[-0.20550191,  1.        , -0.1247063 ,  0.36417955, -0.05435193,\n",
       "          0.16041505, -0.08009219, -0.4876371 ,  0.5270789 , -0.22714671],\n",
       "        [-0.13508916,  0.16230476, -0.5823142 ,  0.59421295, -0.16791484,\n",
       "          0.05303282, -0.43032938,  0.437056  , -0.29983795, -0.2542137 ],\n",
       "        [-0.13452968,  0.2499662 , -0.09991783,  0.5022195 ,  0.0409832 ,\n",
       "         -0.16415268,  0.09688812, -0.41114238,  0.13460892, -0.36726734],\n",
       "        [ 0.35598248, -0.15569499,  0.25118637,  0.38806838, -0.6026911 ,\n",
       "         -0.28360236,  0.33014894,  0.53754014, -0.5600314 , -0.5714094 ],\n",
       "        [ 0.22438145,  0.12202936, -0.44010824, -0.22674373,  0.05882555,\n",
       "         -0.56905484, -0.4846149 ,  0.40899366, -0.1061694 ,  0.46852106],\n",
       "        [ 0.4313913 , -0.4670628 , -0.25587487,  0.08854097,  0.26260144,\n",
       "          0.15318161, -0.47664177, -0.52249   , -0.21726507, -0.4849761 ]],\n",
       "       dtype=float32)>,\n",
       " <tf.Variable 'dense_10/bias:0' shape=(10,) dtype=float32, numpy=\n",
       " array([ 0.0667546 , -0.03175627, -0.01404304,  0.04249647,  0.05407047,\n",
       "         0.00670695,  0.03647355,  0.03131673, -0.00343134, -0.01775817],\n",
       "       dtype=float32)>,\n",
       " <tf.Variable 'dense_11/kernel:0' shape=(10, 5) dtype=float32, numpy=\n",
       " array([[-0.15617278, -0.45003837,  0.41482037,  0.35947788, -0.22490022],\n",
       "        [ 0.41105002, -0.27210248,  0.24810135,  0.03037363, -0.580385  ],\n",
       "        [ 0.38000232, -0.01188642,  0.38543016,  0.01838088,  0.533446  ],\n",
       "        [-0.20550299,  0.32569462,  0.5760369 , -0.11196172, -0.09118807],\n",
       "        [ 0.19937205,  0.36792284,  0.336533  , -0.34450963,  0.17339534],\n",
       "        [-0.55078   , -0.44134128, -0.22120059,  0.2772144 ,  0.23731697],\n",
       "        [-0.43873897, -0.25424346, -0.6197645 , -0.5574616 ,  0.04133689],\n",
       "        [-0.3793134 ,  0.2575391 ,  0.33048624, -0.20838049,  0.41090935],\n",
       "        [-0.28052872, -0.47728187,  0.447558  , -0.52149206, -0.03864241],\n",
       "        [-0.07749552,  0.06601971,  0.35028815,  0.09899777,  0.07422912]],\n",
       "       dtype=float32)>,\n",
       " <tf.Variable 'dense_11/bias:0' shape=(5,) dtype=float32, numpy=\n",
       " array([ 0.01641794, -0.04158299, -0.03674749,  0.07057574, -0.02341441],\n",
       "       dtype=float32)>]"
      ]
     },
     "execution_count": 207,
     "metadata": {},
     "output_type": "execute_result"
    }
   ],
   "source": [
    "model.weights"
   ]
  },
  {
   "cell_type": "code",
   "execution_count": 118,
   "metadata": {},
   "outputs": [],
   "source": [
    "model.layers[0].set_weights([new_weights1,weights1[1].numpy()])"
   ]
  },
  {
   "cell_type": "code",
   "execution_count": 5,
   "metadata": {},
   "outputs": [
    {
     "data": {
      "text/plain": [
       "0.8268286794901034"
      ]
     },
     "execution_count": 5,
     "metadata": {},
     "output_type": "execute_result"
    }
   ],
   "source": [
    "from math import sin\n",
    "sin(65)"
   ]
  },
  {
   "cell_type": "code",
   "execution_count": 6,
   "metadata": {},
   "outputs": [
    {
     "name": "stdout",
     "output_type": "stream",
     "text": [
      "0\n",
      "1\n",
      "2\n",
      "3\n",
      "4\n",
      "5\n",
      "6\n",
      "7\n",
      "8\n",
      "9\n"
     ]
    }
   ],
   "source": [
    "for x in range(0,10):\n",
    "    print(x)"
   ]
  },
  {
   "cell_type": "code",
   "execution_count": null,
   "metadata": {},
   "outputs": [],
   "source": [
    "#Hands on machine learning book page 293\n",
    "import tensorflow as tf\n",
    "from tensorflow import keras\n",
    "print(tf.__version__, keras.__version__)\n"
   ]
  },
  {
   "cell_type": "code",
   "execution_count": null,
   "metadata": {},
   "outputs": [],
   "source": [
    "fashion_mnist = keras.datasets.fashion_mnist\n",
    "(X_train_full, y_train_full), (X_test, y_test) = fashion_mnist.load_data()\n"
   ]
  },
  {
   "cell_type": "code",
   "execution_count": null,
   "metadata": {},
   "outputs": [],
   "source": [
    "print(X_train_full.shape, X_train_full.dtype)"
   ]
  },
  {
   "cell_type": "code",
   "execution_count": null,
   "metadata": {},
   "outputs": [],
   "source": [
    "X_valid, X_train = X_train_full[:5000] / 255.0, X_train_full[5000:] / 255.0\n",
    "y_valid, y_train = y_train_full[:5000], y_train_full[5000:]"
   ]
  },
  {
   "cell_type": "code",
   "execution_count": null,
   "metadata": {},
   "outputs": [],
   "source": [
    "class_names = [\"T-shirt/top\", \"Trouser\", \"Pullover\", \"Dress\", \"Coat\",\n",
    " \"Sandal\", \"Shirt\", \"Sneaker\", \"Bag\", \"Ankle boot\"]\n"
   ]
  },
  {
   "cell_type": "code",
   "execution_count": null,
   "metadata": {},
   "outputs": [],
   "source": [
    "model = keras.models.Sequential()\n",
    "model.add(keras.layers.Flatten(input_shape=[6,1]))\n",
    "model.add(keras.layers.Dense(10, activation=\"relu\"))\n",
    "model.add(keras.layers.Dense(6, activation=\"softmax\"))\n"
   ]
  },
  {
   "cell_type": "code",
   "execution_count": null,
   "metadata": {},
   "outputs": [],
   "source": [
    "model.summary()"
   ]
  },
  {
   "cell_type": "code",
   "execution_count": null,
   "metadata": {},
   "outputs": [],
   "source": [
    "model.compile(loss=\"sparse_categorical_crossentropy\",\n",
    " optimizer=\"sgd\",\n",
    " metrics=[\"accuracy\"])\n"
   ]
  },
  {
   "cell_type": "code",
   "execution_count": null,
   "metadata": {},
   "outputs": [],
   "source": [
    "history = model.fit(X_train, y_train, epochs=30,validation_data=(X_valid, y_valid))"
   ]
  },
  {
   "cell_type": "code",
   "execution_count": null,
   "metadata": {},
   "outputs": [],
   "source": [
    "import pandas as pd\n",
    "import matplotlib.pyplot as plt\n",
    "pd.DataFrame(history.history).plot(figsize=(8, 5))\n",
    "plt.grid(True)\n",
    "plt.gca().set_ylim(0, 1) # set the vertical range to [0-1]\n",
    "plt.show()\n"
   ]
  },
  {
   "cell_type": "code",
   "execution_count": null,
   "metadata": {},
   "outputs": [],
   "source": [
    "history.history[\"accuracy\"\n",
    "]"
   ]
  },
  {
   "cell_type": "code",
   "execution_count": 6,
   "metadata": {},
   "outputs": [
    {
     "data": {
      "text/plain": [
       "[2, 0]"
      ]
     },
     "execution_count": 6,
     "metadata": {},
     "output_type": "execute_result"
    }
   ],
   "source": [
    "my_dict = {0: 5.0, 1: 1.0, 2: 10.31865}\n",
    "sorted(my_dict, key=my_dict.get, reverse=True)[:2]"
   ]
  },
  {
   "cell_type": "code",
   "execution_count": null,
   "metadata": {},
   "outputs": [],
   "source": []
  }
 ],
 "metadata": {
  "interpreter": {
   "hash": "2647ea34e536f865ab67ff9ddee7fd78773d956cec0cab53c79b32cd10da5d83"
  },
  "kernelspec": {
   "display_name": "Python 3.9.7 64-bit",
   "name": "python3"
  },
  "language_info": {
   "codemirror_mode": {
    "name": "ipython",
    "version": 3
   },
   "file_extension": ".py",
   "mimetype": "text/x-python",
   "name": "python",
   "nbconvert_exporter": "python",
   "pygments_lexer": "ipython3",
   "version": "3.9.7"
  },
  "orig_nbformat": 4
 },
 "nbformat": 4,
 "nbformat_minor": 2
}
